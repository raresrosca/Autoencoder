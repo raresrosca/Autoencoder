{
  "nbformat": 4,
  "nbformat_minor": 0,
  "metadata": {
    "colab": {
      "name": "CustomReluFunction.ipynb",
      "version": "0.3.2",
      "provenance": [],
      "include_colab_link": true
    },
    "kernelspec": {
      "name": "python3",
      "display_name": "Python 3"
    },
    "accelerator": "GPU"
  },
  "cells": [
    {
      "cell_type": "markdown",
      "metadata": {
        "id": "view-in-github",
        "colab_type": "text"
      },
      "source": [
        "<a href=\"https://colab.research.google.com/github/raresrosca/Autoencoder/blob/master/CustomReluFunction.ipynb\" target=\"_parent\"><img src=\"https://colab.research.google.com/assets/colab-badge.svg\" alt=\"Open In Colab\"/></a>"
      ]
    },
    {
      "cell_type": "code",
      "metadata": {
        "id": "SjkWguZQaXFv",
        "colab_type": "code",
        "colab": {}
      },
      "source": [
        "import torch\n",
        "from torch.autograd import Variable\n",
        "import torch.nn.functional as F\n",
        "import torch.utils.data as Data\n",
        "\n",
        "import matplotlib.pyplot as plt\n",
        "%matplotlib inline\n",
        "\n",
        "import numpy as np\n",
        "import imageio\n",
        "\n",
        "torch.manual_seed(1)    # reproducible\n",
        "\n",
        "x = torch.unsqueeze(torch.linspace(0, 40, 2000), dim=1)  # x data (tensor), shape=(100, 1)\n",
        "y = torch.sin(x) + 0.2*torch.rand(x.size())                 # noisy y data (tensor), shape=(100, 1)\n",
        "\n",
        "# torch can only train on Variable, so convert them to Variable\n",
        "x, y = Variable(x), Variable(y)\n",
        "\n"
      ],
      "execution_count": 0,
      "outputs": []
    },
    {
      "cell_type": "code",
      "metadata": {
        "id": "hWBxcTAjQiWN",
        "colab_type": "code",
        "colab": {}
      },
      "source": [
        "import torch.nn as nn\n",
        "\n",
        "class cReLU(nn.Module):\n",
        "  def __init__(self):\n",
        "    super().__init__()\n",
        "    \n",
        "  def forward(self, input):\n",
        "    self.zeros = torch.zeros(input.shape[0],input.shape[1])\n",
        "    self.ones = torch.ones(input.shape[0], input.shape[1])\n",
        "    return torch.max(input-20*self.ones , self.zeros)"
      ],
      "execution_count": 0,
      "outputs": []
    },
    {
      "cell_type": "code",
      "metadata": {
        "id": "jlArQitBbG3q",
        "colab_type": "code",
        "colab": {}
      },
      "source": [
        "# another way to define a network\n",
        "net = torch.nn.Sequential(\n",
        "        torch.nn.Linear(1, 200),\n",
        "        torch.nn.ReLU(),\n",
        "        torch.nn.Linear(200, 100),\n",
        "        torch.nn.ReLU(),\n",
        "        torch.nn.Linear(100, 1),\n",
        "    )"
      ],
      "execution_count": 0,
      "outputs": []
    },
    {
      "cell_type": "code",
      "metadata": {
        "id": "IlV27xcIu08D",
        "colab_type": "code",
        "colab": {}
      },
      "source": [
        "optimizer = torch.optim.Adam(net.parameters(), lr=0.1)\n",
        "loss_func = torch.nn.MSELoss()  # this is for regression mean squared loss\n",
        "\n",
        "BATCH_SIZE = 50"
      ],
      "execution_count": 0,
      "outputs": []
    },
    {
      "cell_type": "code",
      "metadata": {
        "id": "UAlAtW43bIH_",
        "colab_type": "code",
        "colab": {}
      },
      "source": [
        "torch_dataset = Data.TensorDataset(x, y)\n",
        "\n",
        "loader = Data.DataLoader(\n",
        "    dataset=torch_dataset, \n",
        "    batch_size=BATCH_SIZE, \n",
        "    shuffle=True, num_workers=2,)\n",
        "\n",
        "my_images = []"
      ],
      "execution_count": 0,
      "outputs": []
    },
    {
      "cell_type": "code",
      "metadata": {
        "id": "d0DEplbjG9mC",
        "colab_type": "code",
        "outputId": "1fd66bcf-aa5b-4960-d364-b117c8221df7",
        "colab": {
          "base_uri": "https://localhost:8080/",
          "height": 1000
        }
      },
      "source": [
        "# start training\n",
        "for epoch in range(200):\n",
        "    running_loss = 0.0\n",
        "    for step, (batch_x, batch_y) in enumerate(loader): # for each training step\n",
        "        \n",
        "        b_x = Variable(batch_x)\n",
        "        b_y = Variable(batch_y)\n",
        "\n",
        "        prediction = net(b_x)     # input x and predict based on x\n",
        "\n",
        "        loss = loss_func(prediction, b_y)     # must be (1. nn output, 2. target)\n",
        "\n",
        "        optimizer.zero_grad()   # clear gradients for next train\n",
        "        loss.backward()         # backpropagation, compute gradients\n",
        "        optimizer.step()        # apply gradients\n",
        "        running_loss += loss.item()\n",
        "\n",
        "    print('[%d] loss: %.3f' %(epoch+1, running_loss))"
      ],
      "execution_count": 0,
      "outputs": [
        {
          "output_type": "stream",
          "text": [
            "[1] loss: 14.032\n",
            "[2] loss: 14.013\n",
            "[3] loss: 14.006\n",
            "[4] loss: 13.995\n",
            "[5] loss: 13.994\n",
            "[6] loss: 14.028\n",
            "[7] loss: 14.004\n",
            "[8] loss: 13.998\n",
            "[9] loss: 13.996\n",
            "[10] loss: 13.989\n",
            "[11] loss: 13.998\n",
            "[12] loss: 13.994\n",
            "[13] loss: 13.994\n",
            "[14] loss: 13.996\n",
            "[15] loss: 13.996\n",
            "[16] loss: 14.005\n",
            "[17] loss: 13.994\n",
            "[18] loss: 14.008\n",
            "[19] loss: 13.999\n",
            "[20] loss: 13.996\n",
            "[21] loss: 13.999\n",
            "[22] loss: 13.994\n",
            "[23] loss: 13.997\n",
            "[24] loss: 13.995\n",
            "[25] loss: 13.987\n",
            "[26] loss: 13.994\n",
            "[27] loss: 14.002\n",
            "[28] loss: 14.018\n",
            "[29] loss: 13.988\n",
            "[30] loss: 13.993\n",
            "[31] loss: 13.995\n",
            "[32] loss: 13.992\n",
            "[33] loss: 13.986\n",
            "[34] loss: 13.999\n",
            "[35] loss: 13.990\n",
            "[36] loss: 13.997\n",
            "[37] loss: 14.000\n",
            "[38] loss: 13.995\n",
            "[39] loss: 13.993\n",
            "[40] loss: 14.004\n",
            "[41] loss: 14.000\n",
            "[42] loss: 13.991\n",
            "[43] loss: 13.992\n",
            "[44] loss: 13.994\n",
            "[45] loss: 13.987\n",
            "[46] loss: 13.988\n",
            "[47] loss: 13.990\n",
            "[48] loss: 13.989\n",
            "[49] loss: 13.996\n",
            "[50] loss: 13.985\n",
            "[51] loss: 14.009\n",
            "[52] loss: 14.001\n",
            "[53] loss: 13.984\n",
            "[54] loss: 13.989\n",
            "[55] loss: 13.992\n",
            "[56] loss: 14.007\n",
            "[57] loss: 14.036\n",
            "[58] loss: 13.985\n",
            "[59] loss: 13.990\n",
            "[60] loss: 13.997\n",
            "[61] loss: 13.993\n",
            "[62] loss: 14.019\n",
            "[63] loss: 13.993\n",
            "[64] loss: 13.987\n",
            "[65] loss: 13.985\n",
            "[66] loss: 13.986\n",
            "[67] loss: 13.998\n",
            "[68] loss: 13.992\n",
            "[69] loss: 13.990\n",
            "[70] loss: 13.990\n",
            "[71] loss: 13.991\n",
            "[72] loss: 14.007\n",
            "[73] loss: 13.990\n",
            "[74] loss: 13.992\n",
            "[75] loss: 13.998\n",
            "[76] loss: 13.989\n",
            "[77] loss: 13.996\n",
            "[78] loss: 13.995\n",
            "[79] loss: 13.996\n",
            "[80] loss: 13.988\n",
            "[81] loss: 13.998\n",
            "[82] loss: 13.986\n",
            "[83] loss: 13.990\n",
            "[84] loss: 13.989\n",
            "[85] loss: 13.985\n",
            "[86] loss: 13.998\n",
            "[87] loss: 13.988\n",
            "[88] loss: 13.991\n",
            "[89] loss: 13.989\n",
            "[90] loss: 13.994\n",
            "[91] loss: 13.986\n",
            "[92] loss: 13.989\n",
            "[93] loss: 13.996\n",
            "[94] loss: 13.983\n",
            "[95] loss: 13.984\n",
            "[96] loss: 13.989\n",
            "[97] loss: 14.011\n",
            "[98] loss: 13.992\n",
            "[99] loss: 14.008\n",
            "[100] loss: 13.988\n",
            "[101] loss: 14.002\n",
            "[102] loss: 13.987\n",
            "[103] loss: 13.989\n",
            "[104] loss: 13.987\n",
            "[105] loss: 13.984\n",
            "[106] loss: 13.989\n",
            "[107] loss: 13.986\n",
            "[108] loss: 13.993\n",
            "[109] loss: 13.986\n",
            "[110] loss: 13.985\n",
            "[111] loss: 13.989\n",
            "[112] loss: 13.985\n",
            "[113] loss: 13.984\n",
            "[114] loss: 13.983\n",
            "[115] loss: 13.985\n",
            "[116] loss: 13.987\n",
            "[117] loss: 13.983\n",
            "[118] loss: 13.985\n",
            "[119] loss: 13.998\n",
            "[120] loss: 13.987\n",
            "[121] loss: 13.986\n",
            "[122] loss: 13.983\n",
            "[123] loss: 13.989\n",
            "[124] loss: 13.986\n",
            "[125] loss: 13.984\n",
            "[126] loss: 13.986\n",
            "[127] loss: 14.014\n",
            "[128] loss: 13.995\n",
            "[129] loss: 13.987\n",
            "[130] loss: 13.991\n",
            "[131] loss: 14.022\n",
            "[132] loss: 13.996\n",
            "[133] loss: 13.990\n",
            "[134] loss: 13.987\n",
            "[135] loss: 13.986\n",
            "[136] loss: 13.988\n",
            "[137] loss: 13.985\n",
            "[138] loss: 13.992\n",
            "[139] loss: 13.984\n",
            "[140] loss: 13.991\n",
            "[141] loss: 13.985\n",
            "[142] loss: 13.990\n",
            "[143] loss: 13.986\n",
            "[144] loss: 13.984\n",
            "[145] loss: 13.994\n",
            "[146] loss: 13.986\n",
            "[147] loss: 13.982\n",
            "[148] loss: 13.985\n",
            "[149] loss: 14.006\n",
            "[150] loss: 13.995\n",
            "[151] loss: 13.985\n",
            "[152] loss: 13.982\n",
            "[153] loss: 13.994\n",
            "[154] loss: 14.000\n",
            "[155] loss: 13.991\n",
            "[156] loss: 13.989\n",
            "[157] loss: 14.000\n",
            "[158] loss: 13.991\n",
            "[159] loss: 13.987\n",
            "[160] loss: 13.987\n",
            "[161] loss: 13.986\n",
            "[162] loss: 13.989\n",
            "[163] loss: 13.987\n",
            "[164] loss: 13.998\n",
            "[165] loss: 13.985\n",
            "[166] loss: 13.983\n",
            "[167] loss: 13.996\n",
            "[168] loss: 13.981\n",
            "[169] loss: 13.983\n",
            "[170] loss: 13.987\n",
            "[171] loss: 13.984\n",
            "[172] loss: 13.992\n",
            "[173] loss: 13.989\n",
            "[174] loss: 14.006\n",
            "[175] loss: 13.989\n",
            "[176] loss: 13.987\n",
            "[177] loss: 13.990\n",
            "[178] loss: 13.989\n",
            "[179] loss: 13.982\n",
            "[180] loss: 13.980\n",
            "[181] loss: 13.984\n",
            "[182] loss: 13.984\n",
            "[183] loss: 13.987\n",
            "[184] loss: 13.988\n",
            "[185] loss: 13.990\n",
            "[186] loss: 13.992\n",
            "[187] loss: 13.983\n",
            "[188] loss: 13.984\n",
            "[189] loss: 13.990\n",
            "[190] loss: 13.987\n",
            "[191] loss: 13.990\n",
            "[192] loss: 13.991\n",
            "[193] loss: 13.988\n",
            "[194] loss: 13.984\n",
            "[195] loss: 13.982\n",
            "[196] loss: 13.986\n",
            "[197] loss: 13.995\n",
            "[198] loss: 13.985\n",
            "[199] loss: 13.982\n",
            "[200] loss: 13.985\n"
          ],
          "name": "stdout"
        }
      ]
    },
    {
      "cell_type": "code",
      "metadata": {
        "id": "59Pn5R6ZHpCF",
        "colab_type": "code",
        "outputId": "f7404a75-cfc4-453c-ac03-b8109f33c7cc",
        "colab": {
          "base_uri": "https://localhost:8080/",
          "height": 607
        }
      },
      "source": [
        "plt.figure(1)\n",
        "plt.figure(figsize=(10,4))\n",
        "plt.scatter(x.data.numpy(), y.data.numpy(), color = \"blue\")\n",
        "plt.title('Regression Analysis')\n",
        "plt.xlabel('Independent varible')\n",
        "plt.ylabel('Dependent varible')\n",
        "plt.show()\n",
        "\n",
        "plt.figure(2)\n",
        "plt.figure(figsize=(10,4))\n",
        "plt.scatter(x.data.numpy(), net(x).data.numpy(), color = \"blue\")\n",
        "plt.title('Regression Analysis')\n",
        "plt.xlabel('Independent varible')\n",
        "plt.ylabel('Dependent varible')\n",
        "#plt.savefig('curve200_myRelushiftedx.png')\n",
        "plt.show()"
      ],
      "execution_count": 0,
      "outputs": [
        {
          "output_type": "display_data",
          "data": {
            "text/plain": [
              "<Figure size 432x288 with 0 Axes>"
            ]
          },
          "metadata": {
            "tags": []
          }
        },
        {
          "output_type": "display_data",
          "data": {
            "image/png": "[encoded data removed]",
            "text/plain": [
              "<Figure size 720x288 with 1 Axes>"
            ]
          },
          "metadata": {
            "tags": []
          }
        },
        {
          "output_type": "display_data",
          "data": {
            "text/plain": [
              "<Figure size 432x288 with 0 Axes>"
            ]
          },
          "metadata": {
            "tags": []
          }
        },
        {
          "output_type": "display_data",
          "data": {
            "image/png": "[encoded data removed]",
            "text/plain": [
              "<Figure size 720x288 with 1 Axes>"
            ]
          },
          "metadata": {
            "tags": []
          }
        }
      ]
    }
  ]
}