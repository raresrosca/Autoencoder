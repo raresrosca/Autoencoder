{
  "nbformat": 4,
  "nbformat_minor": 0,
  "metadata": {
    "colab": {
      "name": "Variational_Autoencoder_Mnist.ipynb",
      "version": "0.3.2",
      "provenance": [],
      "include_colab_link": true
    },
    "kernelspec": {
      "name": "python3",
      "display_name": "Python 3"
    },
    "accelerator": "GPU"
  },
  "cells": [
    {
      "cell_type": "markdown",
      "metadata": {
        "id": "view-in-github",
        "colab_type": "text"
      },
      "source": [
        "<a href=\"https://colab.research.google.com/github/raresrosca/Autoencoder/blob/master/Variational_Autoencoder_Mnist.ipynb\" target=\"_parent\"><img src=\"https://colab.research.google.com/assets/colab-badge.svg\" alt=\"Open In Colab\"/></a>"
      ]
    },
    {
      "cell_type": "code",
      "metadata": {
        "id": "dJxWcdEJ9rHb",
        "colab_type": "code",
        "colab": {}
      },
      "source": [
        "import torch\n",
        "import torchvision\n",
        "from torch import nn\n",
        "from torch import optim\n",
        "import torch.nn.functional as F\n",
        "from torch.autograd import Variable\n",
        "from torchvision import transforms\n",
        "from torchvision.utils import save_image\n",
        "\n",
        "import os"
      ],
      "execution_count": 0,
      "outputs": []
    },
    {
      "cell_type": "code",
      "metadata": {
        "id": "NqI4_Yg4-3XZ",
        "colab_type": "code",
        "colab": {}
      },
      "source": [
        "transform = transforms.Compose([\n",
        "    transforms.ToTensor(),\n",
        "    #transforms.Normalize((0.5, ),(0.5, ))\n",
        "])\n",
        "\n",
        "dataset = torchvision.datasets.MNIST('/content/MNIST_data/', transform = transform, download = True )\n",
        "\n",
        "dataloader = torch.utils.data.DataLoader(dataset, batch_size = 128, shuffle = True, num_workers = 4)\n",
        "\n"
      ],
      "execution_count": 0,
      "outputs": []
    },
    {
      "cell_type": "code",
      "metadata": {
        "id": "hSaFwbI1c4Hr",
        "colab_type": "code",
        "colab": {}
      },
      "source": [
        "def to_img(x):\n",
        "    x = x.clamp(0, 1)\n",
        "    x = x.view(x.size(0), 1, 28, 28)\n",
        "    return x"
      ],
      "execution_count": 0,
      "outputs": []
    },
    {
      "cell_type": "code",
      "metadata": {
        "id": "K_VGFzBuBAIx",
        "colab_type": "code",
        "colab": {
          "base_uri": "https://localhost:8080/",
          "height": 286
        },
        "outputId": "43cef6c4-fb14-4adc-d255-1e22f5450dc0"
      },
      "source": [
        "import matplotlib.pyplot as plt\n",
        "import numpy as np\n",
        "\n",
        "#functions to show an image\n",
        "\n",
        "#functions to show an image\n",
        "\n",
        "def imshow(img):\n",
        "  img = img / 2 + 0.5\n",
        "  npimg = img.numpy()\n",
        "  plt.imshow(np.transpose(npimg,(1,2,0)))\n",
        "  plt.show()\n",
        "  \n",
        "# get some random training images\n",
        "dataiter = iter(dataloader)\n",
        "images, labels = dataiter.next()\n",
        "print(images.shape)\n",
        "\n",
        "#show images\n",
        "imshow(torchvision.utils.make_grid(images))"
      ],
      "execution_count": 3,
      "outputs": [
        {
          "output_type": "stream",
          "text": [
            "torch.Size([128, 1, 28, 28])\n"
          ],
          "name": "stdout"
        },
        {
          "output_type": "display_data",
          "data": {
            "image/png": "[encoded data removed]",
            "text/plain": [
              "<Figure size 432x288 with 1 Axes>"
            ]
          },
          "metadata": {
            "tags": []
          }
        }
      ]
    },
    {
      "cell_type": "code",
      "metadata": {
        "id": "NmX8n2-EBMgu",
        "colab_type": "code",
        "colab": {
          "base_uri": "https://localhost:8080/",
          "height": 119
        },
        "outputId": "b1f55b41-3dbd-4c66-b220-44d8701c3a72"
      },
      "source": [
        "print(labels)"
      ],
      "execution_count": 4,
      "outputs": [
        {
          "output_type": "stream",
          "text": [
            "tensor([3, 7, 3, 0, 6, 3, 7, 1, 8, 5, 2, 2, 6, 2, 1, 1, 9, 7, 9, 5, 8, 7, 1, 0,\n",
            "        6, 4, 2, 6, 6, 0, 1, 3, 0, 9, 6, 8, 2, 4, 5, 7, 5, 7, 2, 7, 3, 6, 4, 0,\n",
            "        1, 9, 9, 1, 5, 7, 3, 4, 5, 9, 2, 0, 0, 0, 3, 2, 7, 8, 7, 4, 5, 6, 3, 4,\n",
            "        9, 1, 0, 2, 0, 5, 3, 1, 7, 6, 7, 5, 7, 8, 7, 3, 2, 6, 6, 7, 8, 2, 2, 6,\n",
            "        6, 7, 2, 3, 7, 0, 7, 8, 9, 8, 8, 1, 6, 3, 8, 5, 3, 4, 0, 4, 7, 6, 1, 8,\n",
            "        2, 2, 6, 2, 0, 6, 7, 9])\n"
          ],
          "name": "stdout"
        }
      ]
    },
    {
      "cell_type": "code",
      "metadata": {
        "id": "s1wDORy5X1g-",
        "colab_type": "code",
        "colab": {
          "base_uri": "https://localhost:8080/",
          "height": 34
        },
        "outputId": "836e5408-76c5-47da-b1e8-97bdd502e8a9"
      },
      "source": [
        "device = torch.device(\"cuda:0\" if torch.cuda.is_available() else \"cpu\")\n",
        "print(device)"
      ],
      "execution_count": 5,
      "outputs": [
        {
          "output_type": "stream",
          "text": [
            "cuda:0\n"
          ],
          "name": "stdout"
        }
      ]
    },
    {
      "cell_type": "code",
      "metadata": {
        "id": "4n4EhIFCFACe",
        "colab_type": "code",
        "colab": {}
      },
      "source": [
        "class VAE(nn.Module):\n",
        "    def __init__(self):\n",
        "        super(VAE, self).__init__()\n",
        "        \n",
        "        self.fc1 = nn.Linear(784, 400)\n",
        "        self.fc21 = nn.Linear(400, 20)\n",
        "        self.fc22 = nn.Linear(400, 20)\n",
        "        self.fc3 = nn.Linear(20, 400)\n",
        "        self.fc4 = nn.Linear(400, 784)\n",
        "        \n",
        "    def encode(self, x):\n",
        "        h1 = F.relu(self.fc1(x))\n",
        "        return self.fc21(h1), self.fc22(h1)\n",
        "      \n",
        "    def reparametrize(self, mu, logvar):\n",
        "        std = logvar.mul(0.5).exp_()\n",
        "        if torch.cuda.is_available():\n",
        "            eps = torch.cuda.FloatTensor(std.size()).normal_()\n",
        "        else:\n",
        "            eps = torch.FloatTensor(std.size()).normal_()\n",
        "        eps = Variable(eps)\n",
        "        return eps.mul(std).add_(mu)\n",
        "      \n",
        "    def decode(self, z):\n",
        "        h3 = F.relu(self.fc3(z))\n",
        "        return F.sigmoid(self.fc4(h3))\n",
        "      \n",
        "    def forward(self, x):\n",
        "        mu, logvar = self.encode(x)\n",
        "        z = self.reparametrize(mu, logvar)\n",
        "        return self.decode(z), mu, logvar\n",
        "      \n",
        "model = VAE()\n",
        "if torch.cuda.is_available():\n",
        "    model.cuda()\n",
        "\n"
      ],
      "execution_count": 0,
      "outputs": []
    },
    {
      "cell_type": "code",
      "metadata": {
        "id": "-ysMN5YdGaIH",
        "colab_type": "code",
        "colab": {}
      },
      "source": [
        "reconstruction_function = nn.MSELoss(reduction = 'sum')"
      ],
      "execution_count": 0,
      "outputs": []
    },
    {
      "cell_type": "code",
      "metadata": {
        "id": "tCrh_yVDGctO",
        "colab_type": "code",
        "colab": {}
      },
      "source": [
        "def loss_function(recon_x, x, mu, logvar):\n",
        "    \"\"\"\n",
        "    recon_x = generating images\n",
        "    x = original images\n",
        "    mu = latent mean\n",
        "    logvar = latent log variance\n",
        "    \"\"\"\n",
        "\n",
        "    BCE = reconstruction_function(recon_x, x) #mse loss\n",
        "    \n",
        "    # loss = 0.5 * sum(1 + log(sigma^2) - mu^2 - sigma^2)\n",
        "    KLD_element = mu.pow(2).add_(logvar.exp()).mul_(-1).add_(1).add_(logvar)\n",
        "    KLD = torch.sum(KLD_element).mul_(-0.5)\n",
        "    # KL divergence\n",
        "    return BCE + KLD"
      ],
      "execution_count": 0,
      "outputs": []
    },
    {
      "cell_type": "code",
      "metadata": {
        "id": "gcp1ggrKGqY5",
        "colab_type": "code",
        "colab": {}
      },
      "source": [
        "optimizer = optim.Adam(model.parameters(), lr=1e-3)"
      ],
      "execution_count": 0,
      "outputs": []
    },
    {
      "cell_type": "code",
      "metadata": {
        "id": "C5RtzcXaR6_V",
        "colab_type": "code",
        "colab": {
          "base_uri": "https://localhost:8080/",
          "height": 1000
        },
        "outputId": "19965ea3-41b4-413c-e5cf-16cabfb84711"
      },
      "source": [
        "for epoch in range(20):\n",
        "    model.train()\n",
        "    train_loss = 0\n",
        "    for batch_idx, data in enumerate(dataloader):\n",
        "        img, _ = data\n",
        "        img = img.view(img.size(0), -1)\n",
        "        img = Variable(img)\n",
        "        if torch.cuda.is_available():\n",
        "            img = img.cuda()\n",
        "        optimizer.zero_grad()\n",
        "        recon_batch, mu, logvar = model(img)\n",
        "        loss = loss_function(recon_batch, img, mu, logvar)\n",
        "        loss.backward()\n",
        "        train_loss += loss.item()\n",
        "        optimizer.step()\n",
        "        if batch_idx % 100 == 0:\n",
        "            print('Train Epoch: {} [{}/{} ({:.0f}%)]\\tLoss: {:.6f}'.format(\n",
        "                epoch,\n",
        "                batch_idx * len(img),\n",
        "                len(dataloader.dataset), 100. * batch_idx / len(dataloader),\n",
        "                loss.item() / len(img)))\n",
        "\n",
        "    print('====> Epoch: {} Average loss: {:.4f}'.format(\n",
        "        epoch, train_loss / len(dataloader.dataset)))\n",
        "    if epoch % 10 == 0:\n",
        "        save = to_img(recon_batch.cpu().data)\n",
        "        save_image(save, '/content/myimages/image_{}.png'.format(epoch))"
      ],
      "execution_count": 11,
      "outputs": [
        {
          "output_type": "stream",
          "text": [
            "/usr/local/lib/python3.6/dist-packages/torch/nn/functional.py:1386: UserWarning: nn.functional.sigmoid is deprecated. Use torch.sigmoid instead.\n",
            "  warnings.warn(\"nn.functional.sigmoid is deprecated. Use torch.sigmoid instead.\")\n"
          ],
          "name": "stderr"
        },
        {
          "output_type": "stream",
          "text": [
            "Train Epoch: 0 [0/60000 (0%)]\tLoss: 184.079666\n",
            "Train Epoch: 0 [12800/60000 (21%)]\tLoss: 50.201645\n",
            "Train Epoch: 0 [25600/60000 (43%)]\tLoss: 43.886936\n",
            "Train Epoch: 0 [38400/60000 (64%)]\tLoss: 39.362793\n",
            "Train Epoch: 0 [51200/60000 (85%)]\tLoss: 36.245567\n",
            "====> Epoch: 0 Average loss: 45.5720\n",
            "Train Epoch: 1 [0/60000 (0%)]\tLoss: 37.163567\n",
            "Train Epoch: 1 [12800/60000 (21%)]\tLoss: 36.042522\n",
            "Train Epoch: 1 [25600/60000 (43%)]\tLoss: 33.350807\n",
            "Train Epoch: 1 [38400/60000 (64%)]\tLoss: 33.834087\n",
            "Train Epoch: 1 [51200/60000 (85%)]\tLoss: 34.540440\n",
            "====> Epoch: 1 Average loss: 34.9589\n",
            "Train Epoch: 2 [0/60000 (0%)]\tLoss: 34.549351\n",
            "Train Epoch: 2 [12800/60000 (21%)]\tLoss: 33.533493\n",
            "Train Epoch: 2 [25600/60000 (43%)]\tLoss: 33.057610\n",
            "Train Epoch: 2 [38400/60000 (64%)]\tLoss: 33.082748\n",
            "Train Epoch: 2 [51200/60000 (85%)]\tLoss: 32.560734\n",
            "====> Epoch: 2 Average loss: 33.0853\n",
            "Train Epoch: 3 [0/60000 (0%)]\tLoss: 32.731636\n",
            "Train Epoch: 3 [12800/60000 (21%)]\tLoss: 33.114998\n",
            "Train Epoch: 3 [25600/60000 (43%)]\tLoss: 31.406551\n",
            "Train Epoch: 3 [38400/60000 (64%)]\tLoss: 32.109966\n",
            "Train Epoch: 3 [51200/60000 (85%)]\tLoss: 32.484856\n",
            "====> Epoch: 3 Average loss: 32.2103\n",
            "Train Epoch: 4 [0/60000 (0%)]\tLoss: 31.652805\n",
            "Train Epoch: 4 [12800/60000 (21%)]\tLoss: 32.431622\n",
            "Train Epoch: 4 [25600/60000 (43%)]\tLoss: 30.808193\n",
            "Train Epoch: 4 [38400/60000 (64%)]\tLoss: 32.294460\n",
            "Train Epoch: 4 [51200/60000 (85%)]\tLoss: 31.579777\n",
            "====> Epoch: 4 Average loss: 31.6877\n",
            "Train Epoch: 5 [0/60000 (0%)]\tLoss: 31.969357\n",
            "Train Epoch: 5 [12800/60000 (21%)]\tLoss: 32.404716\n",
            "Train Epoch: 5 [25600/60000 (43%)]\tLoss: 32.350555\n",
            "Train Epoch: 5 [38400/60000 (64%)]\tLoss: 31.249489\n",
            "Train Epoch: 5 [51200/60000 (85%)]\tLoss: 30.286577\n",
            "====> Epoch: 5 Average loss: 31.3039\n",
            "Train Epoch: 6 [0/60000 (0%)]\tLoss: 31.633495\n",
            "Train Epoch: 6 [12800/60000 (21%)]\tLoss: 31.069284\n",
            "Train Epoch: 6 [25600/60000 (43%)]\tLoss: 31.444904\n",
            "Train Epoch: 6 [38400/60000 (64%)]\tLoss: 31.024715\n",
            "Train Epoch: 6 [51200/60000 (85%)]\tLoss: 31.431297\n",
            "====> Epoch: 6 Average loss: 31.0580\n",
            "Train Epoch: 7 [0/60000 (0%)]\tLoss: 29.733646\n",
            "Train Epoch: 7 [12800/60000 (21%)]\tLoss: 30.033724\n",
            "Train Epoch: 7 [25600/60000 (43%)]\tLoss: 30.613619\n",
            "Train Epoch: 7 [38400/60000 (64%)]\tLoss: 31.117094\n",
            "Train Epoch: 7 [51200/60000 (85%)]\tLoss: 28.740814\n",
            "====> Epoch: 7 Average loss: 30.8336\n",
            "Train Epoch: 8 [0/60000 (0%)]\tLoss: 28.865791\n",
            "Train Epoch: 8 [12800/60000 (21%)]\tLoss: 30.596558\n",
            "Train Epoch: 8 [25600/60000 (43%)]\tLoss: 31.094460\n",
            "Train Epoch: 8 [38400/60000 (64%)]\tLoss: 31.611324\n",
            "Train Epoch: 8 [51200/60000 (85%)]\tLoss: 29.395172\n",
            "====> Epoch: 8 Average loss: 30.6915\n",
            "Train Epoch: 9 [0/60000 (0%)]\tLoss: 31.011379\n",
            "Train Epoch: 9 [12800/60000 (21%)]\tLoss: 30.277851\n",
            "Train Epoch: 9 [25600/60000 (43%)]\tLoss: 31.832006\n",
            "Train Epoch: 9 [38400/60000 (64%)]\tLoss: 29.729929\n",
            "Train Epoch: 9 [51200/60000 (85%)]\tLoss: 29.994801\n",
            "====> Epoch: 9 Average loss: 30.5288\n",
            "Train Epoch: 10 [0/60000 (0%)]\tLoss: 29.742298\n",
            "Train Epoch: 10 [12800/60000 (21%)]\tLoss: 29.256443\n",
            "Train Epoch: 10 [25600/60000 (43%)]\tLoss: 30.751659\n",
            "Train Epoch: 10 [38400/60000 (64%)]\tLoss: 31.214201\n",
            "Train Epoch: 10 [51200/60000 (85%)]\tLoss: 30.081762\n",
            "====> Epoch: 10 Average loss: 30.3938\n",
            "Train Epoch: 11 [0/60000 (0%)]\tLoss: 29.593031\n",
            "Train Epoch: 11 [12800/60000 (21%)]\tLoss: 30.612242\n",
            "Train Epoch: 11 [25600/60000 (43%)]\tLoss: 30.023806\n",
            "Train Epoch: 11 [38400/60000 (64%)]\tLoss: 30.495310\n",
            "Train Epoch: 11 [51200/60000 (85%)]\tLoss: 30.432993\n",
            "====> Epoch: 11 Average loss: 30.2954\n",
            "Train Epoch: 12 [0/60000 (0%)]\tLoss: 32.374123\n",
            "Train Epoch: 12 [12800/60000 (21%)]\tLoss: 30.147417\n",
            "Train Epoch: 12 [25600/60000 (43%)]\tLoss: 30.183857\n",
            "Train Epoch: 12 [38400/60000 (64%)]\tLoss: 30.265482\n",
            "Train Epoch: 12 [51200/60000 (85%)]\tLoss: 29.076210\n",
            "====> Epoch: 12 Average loss: 30.1790\n",
            "Train Epoch: 13 [0/60000 (0%)]\tLoss: 30.307497\n",
            "Train Epoch: 13 [12800/60000 (21%)]\tLoss: 28.895288\n",
            "Train Epoch: 13 [25600/60000 (43%)]\tLoss: 30.201771\n",
            "Train Epoch: 13 [38400/60000 (64%)]\tLoss: 29.313137\n",
            "Train Epoch: 13 [51200/60000 (85%)]\tLoss: 29.751934\n",
            "====> Epoch: 13 Average loss: 30.1018\n",
            "Train Epoch: 14 [0/60000 (0%)]\tLoss: 29.800365\n",
            "Train Epoch: 14 [12800/60000 (21%)]\tLoss: 30.455732\n",
            "Train Epoch: 14 [25600/60000 (43%)]\tLoss: 29.759199\n",
            "Train Epoch: 14 [38400/60000 (64%)]\tLoss: 28.807346\n",
            "Train Epoch: 14 [51200/60000 (85%)]\tLoss: 29.584797\n",
            "====> Epoch: 14 Average loss: 30.0200\n",
            "Train Epoch: 15 [0/60000 (0%)]\tLoss: 31.171902\n",
            "Train Epoch: 15 [12800/60000 (21%)]\tLoss: 30.641098\n",
            "Train Epoch: 15 [25600/60000 (43%)]\tLoss: 29.306189\n",
            "Train Epoch: 15 [38400/60000 (64%)]\tLoss: 29.815113\n",
            "Train Epoch: 15 [51200/60000 (85%)]\tLoss: 30.306662\n",
            "====> Epoch: 15 Average loss: 29.9074\n",
            "Train Epoch: 16 [0/60000 (0%)]\tLoss: 30.780331\n",
            "Train Epoch: 16 [12800/60000 (21%)]\tLoss: 29.972321\n",
            "Train Epoch: 16 [25600/60000 (43%)]\tLoss: 30.729622\n",
            "Train Epoch: 16 [38400/60000 (64%)]\tLoss: 29.350393\n",
            "Train Epoch: 16 [51200/60000 (85%)]\tLoss: 30.357584\n",
            "====> Epoch: 16 Average loss: 29.8687\n",
            "Train Epoch: 17 [0/60000 (0%)]\tLoss: 30.422413\n",
            "Train Epoch: 17 [12800/60000 (21%)]\tLoss: 29.603395\n",
            "Train Epoch: 17 [25600/60000 (43%)]\tLoss: 30.163925\n",
            "Train Epoch: 17 [38400/60000 (64%)]\tLoss: 30.418011\n",
            "Train Epoch: 17 [51200/60000 (85%)]\tLoss: 30.095711\n",
            "====> Epoch: 17 Average loss: 29.7972\n",
            "Train Epoch: 18 [0/60000 (0%)]\tLoss: 29.245514\n",
            "Train Epoch: 18 [12800/60000 (21%)]\tLoss: 29.254326\n",
            "Train Epoch: 18 [25600/60000 (43%)]\tLoss: 29.734791\n",
            "Train Epoch: 18 [38400/60000 (64%)]\tLoss: 30.153488\n",
            "Train Epoch: 18 [51200/60000 (85%)]\tLoss: 29.864573\n",
            "====> Epoch: 18 Average loss: 29.7170\n",
            "Train Epoch: 19 [0/60000 (0%)]\tLoss: 28.993092\n",
            "Train Epoch: 19 [12800/60000 (21%)]\tLoss: 30.451672\n",
            "Train Epoch: 19 [25600/60000 (43%)]\tLoss: 28.223705\n",
            "Train Epoch: 19 [38400/60000 (64%)]\tLoss: 29.992620\n",
            "Train Epoch: 19 [51200/60000 (85%)]\tLoss: 29.001080\n",
            "====> Epoch: 19 Average loss: 29.6349\n"
          ],
          "name": "stdout"
        }
      ]
    },
    {
      "cell_type": "code",
      "metadata": {
        "id": "IB0zxiY1SAkT",
        "colab_type": "code",
        "colab": {
          "base_uri": "https://localhost:8080/",
          "height": 34
        },
        "outputId": "d5684431-db6c-470d-8ac9-25bc5121531e"
      },
      "source": [
        "device = torch.device(\"cuda:0\" if torch.cuda.is_available() else \"cpu\")\n",
        "print(device)"
      ],
      "execution_count": 82,
      "outputs": [
        {
          "output_type": "stream",
          "text": [
            "cuda:0\n"
          ],
          "name": "stdout"
        }
      ]
    },
    {
      "cell_type": "code",
      "metadata": {
        "id": "NElf-Of0SncI",
        "colab_type": "code",
        "colab": {}
      },
      "source": [
        "!mkdir myimages"
      ],
      "execution_count": 0,
      "outputs": []
    }
  ]
}